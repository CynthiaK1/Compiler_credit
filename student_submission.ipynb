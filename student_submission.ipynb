{
  "nbformat": 4,
  "nbformat_minor": 0,
  "metadata": {
    "colab": {
      "provenance": []
    },
    "kernelspec": {
      "name": "python3",
      "display_name": "Python 3"
    },
    "language_info": {
      "name": "python"
    }
  },
  "cells": [
    {
      "cell_type": "code",
      "execution_count": 5,
      "metadata": {
        "id": "dbGhBF6S31bu"
      },
      "outputs": [],
      "source": [
        "import ast #provides tools for working with the abstract syntax trees\n",
        "\n",
        "def parse_code(file_path):\n",
        "    with open(file_path, 'r') as file:\n",
        "        source_code = file.read()\n",
        "    return ast.parse(source_code)\n"
      ]
    },
    {
      "cell_type": "code",
      "source": [
        "def normalize_ast(node):\n",
        "    if isinstance(node, ast.FunctionDef):\n",
        "        # Normalize function names\n",
        "        node.name = 'function'\n",
        "    elif isinstance(node, ast.Name):\n",
        "        # Normalize variable names\n",
        "        node.id = 'variable'\n",
        "\n",
        "    for child in ast.iter_child_nodes(node):\n",
        "        normalize_ast(child)\n"
      ],
      "metadata": {
        "id": "qW62DhLr4l8O"
      },
      "execution_count": 6,
      "outputs": []
    },
    {
      "cell_type": "code",
      "source": [
        "def compare_asts(node1, node2):\n",
        "    if type(node1) != type(node2):\n",
        "        return False\n",
        "\n",
        "    if isinstance(node1, ast.FunctionDef):\n",
        "        # Compare function names\n",
        "        return node1.name == node2.name\n",
        "\n",
        "    # Continue comparing child nodes\n",
        "    for child1, child2 in zip(ast.iter_child_nodes(node1), ast.iter_child_nodes(node2)):\n",
        "        if not compare_asts(child1, child2):\n",
        "            return False\n",
        "\n",
        "    return True"
      ],
      "metadata": {
        "id": "yB4S4RNg4nbR"
      },
      "execution_count": 7,
      "outputs": []
    },
    {
      "cell_type": "code",
      "source": [
        "def calculate_similarity_rating(model_ast, student_ast):\n",
        "    total_nodes = 0\n",
        "    matching_nodes = 0\n",
        "\n",
        "    def count_nodes(node):\n",
        "        nonlocal total_nodes, matching_nodes\n",
        "        total_nodes += 1\n",
        "\n",
        "        if compare_asts(node, student_ast):\n",
        "            matching_nodes += 1\n",
        "\n",
        "        for child in ast.iter_child_nodes(node):\n",
        "            count_nodes(child)\n",
        "\n",
        "    count_nodes(model_ast)\n",
        "\n",
        "    return matching_nodes / total_nodes * 100\n"
      ],
      "metadata": {
        "id": "Y6_dEYOA4-BX"
      },
      "execution_count": 8,
      "outputs": []
    },
    {
      "cell_type": "code",
      "source": [
        "# Example usage:\n",
        "model_ast = parse_code('model_answer.py')\n",
        "student_ast = parse_code('student_submission.py')\n",
        "\n",
        "normalize_ast(model_ast)\n",
        "normalize_ast(student_ast)"
      ],
      "metadata": {
        "id": "-m10478N5CtG"
      },
      "execution_count": 9,
      "outputs": []
    },
    {
      "cell_type": "code",
      "source": [
        "similarity = compare_asts(model_ast, student_ast)\n",
        "print(f\"Structural Similarity: {similarity}\")"
      ],
      "metadata": {
        "colab": {
          "base_uri": "https://localhost:8080/"
        },
        "id": "RCJ2o0t05IeY",
        "outputId": "00789f41-dfc6-4965-9fcf-1374b078b54d"
      },
      "execution_count": 10,
      "outputs": [
        {
          "output_type": "stream",
          "name": "stdout",
          "text": [
            "Structural Similarity: True\n"
          ]
        }
      ]
    },
    {
      "cell_type": "code",
      "source": [
        "rating = calculate_similarity_rating(model_ast, student_ast)\n",
        "print(f\"Similarity Rating: {rating}%\")"
      ],
      "metadata": {
        "colab": {
          "base_uri": "https://localhost:8080/"
        },
        "id": "kh3x_0z75QS6",
        "outputId": "414d70d2-eb5c-4f85-df55-c382ee099bef"
      },
      "execution_count": 11,
      "outputs": [
        {
          "output_type": "stream",
          "name": "stdout",
          "text": [
            "Similarity Rating: 2.857142857142857%\n"
          ]
        }
      ]
    }
  ]
}