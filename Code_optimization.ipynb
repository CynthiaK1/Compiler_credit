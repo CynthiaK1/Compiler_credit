{
  "nbformat": 4,
  "nbformat_minor": 0,
  "metadata": {
    "colab": {
      "provenance": []
    },
    "kernelspec": {
      "name": "python3",
      "display_name": "Python 3"
    },
    "language_info": {
      "name": "python"
    }
  },
  "cells": [
    {
      "cell_type": "markdown",
      "source": [
        "## 134653 ICS 4A\n",
        "The following code is an example of the code optimization phase in the compiler process. This has been achieved here by constant folding and dead code elimination."
      ],
      "metadata": {
        "id": "ZXuIGwKoC728"
      }
    },
    {
      "cell_type": "code",
      "source": [
        "!pip install astor"
      ],
      "metadata": {
        "colab": {
          "base_uri": "https://localhost:8080/"
        },
        "id": "DaF4jqh4bbmm",
        "outputId": "c1a08e6b-798a-4cc1-f3c8-7af926db1349"
      },
      "execution_count": 15,
      "outputs": [
        {
          "output_type": "stream",
          "name": "stdout",
          "text": [
            "Requirement already satisfied: astor in /usr/local/lib/python3.10/dist-packages (0.8.1)\n"
          ]
        }
      ]
    },
    {
      "cell_type": "code",
      "execution_count": 2,
      "metadata": {
        "id": "8gVwLDBObasY"
      },
      "outputs": [],
      "source": [
        "import ast #The Python Abstract Syntax Tree (AST) module\n",
        "import copy\n",
        "import astor"
      ]
    },
    {
      "cell_type": "code",
      "source": [
        "#Constant Folding Implementation\n",
        "class ConstantFolding(ast.NodeTransformer):\n",
        "    def __init__(self):\n",
        "        self.constants = {}\n",
        "\n",
        "    def visit_Assign(self, node):\n",
        "        # Record assignments to variables with constant values\n",
        "        if len(node.targets) == 1 and isinstance(node.targets[0], ast.Name):\n",
        "            target_var = node.targets[0].id\n",
        "            if isinstance(node.value, (ast.Constant, ast.NameConstant)):\n",
        "                try:\n",
        "                    value = eval(astor.to_source(node.value))\n",
        "                    self.constants[target_var] = value\n",
        "                except:\n",
        "                    pass  # Ignore errors during evaluation\n",
        "\n",
        "        return self.generic_visit(node)\n",
        "\n",
        "    def visit_BinOp(self, node):\n",
        "        # Check if both operands are constants or variables with constant values\n",
        "        if (\n",
        "            isinstance(node.left, (ast.Constant, ast.NameConstant)) and\n",
        "            isinstance(node.right, (ast.Constant, ast.NameConstant))\n",
        "        ):\n",
        "            # Evaluate the expression at compile-time\n",
        "            try:\n",
        "                result = eval(astor.to_source(node), self.constants)\n",
        "                return ast.Constant(value=result, kind=None)\n",
        "            except:\n",
        "                pass  # Ignore errors during evaluation\n",
        "\n",
        "        return self.generic_visit(node)\n"
      ],
      "metadata": {
        "id": "2Lu4OxCkcFRy"
      },
      "execution_count": 11,
      "outputs": []
    },
    {
      "cell_type": "code",
      "source": [
        "#Dead Code Elimination Implementation\n",
        "class DeadCodeElimination(ast.NodeTransformer):\n",
        "    def __init__(self):\n",
        "        self.live_variables = set()\n",
        "\n",
        "    def visit_Assign(self, node):\n",
        "        # Record live variables from assignments\n",
        "        for target in node.targets:\n",
        "            if isinstance(target, ast.Name):\n",
        "                self.live_variables.add(target.id)\n",
        "        return self.generic_visit(node)\n",
        "\n",
        "    def visit_Name(self, node):\n",
        "        # Remove references to dead variables\n",
        "        if isinstance(node, ast.Name) and node.id not in self.live_variables:\n",
        "            return ast.Pass()\n",
        "        return self.generic_visit(node)"
      ],
      "metadata": {
        "id": "9OexkVOZcHIR"
      },
      "execution_count": 8,
      "outputs": []
    },
    {
      "cell_type": "code",
      "source": [
        "#Combined Optimizer\n",
        "class CombinedOptimizer(ConstantFolding, DeadCodeElimination):\n",
        "    def optimize_code(self, source_code):\n",
        "        tree = ast.parse(source_code)\n",
        "\n",
        "        # Perform constant folding\n",
        "        constant_folded_tree = copy.deepcopy(tree)\n",
        "        constant_folding_optimizer = ConstantFolding()\n",
        "        constant_folded_tree = constant_folding_optimizer.visit(constant_folded_tree)\n",
        "\n",
        "        # Perform dead code elimination\n",
        "        dead_code_elimination_optimizer = DeadCodeElimination()\n",
        "        optimized_tree = dead_code_elimination_optimizer.visit(constant_folded_tree)\n",
        "\n",
        "        return astor.to_source(optimized_tree)"
      ],
      "metadata": {
        "id": "vv5AC-lScLYb"
      },
      "execution_count": 12,
      "outputs": []
    },
    {
      "cell_type": "code",
      "source": [
        "#  Example in use\n",
        "source_code = \"\"\"\n",
        "x = 2 + 3\n",
        "y = x * 4\n",
        "z = 5\n",
        "# Dead code example\n",
        "\n",
        "\"\"\"\n",
        "\n",
        "optimizer = CombinedOptimizer()\n",
        "optimized_code = optimizer.optimize_code(source_code)\n",
        "\n",
        "# Section 5: Print Original and Optimized Code\n",
        "print(\"Original Code:\")\n",
        "print(source_code)\n",
        "print(\"\\nOptimized Code:\")\n",
        "print(optimized_code)"
      ],
      "metadata": {
        "colab": {
          "base_uri": "https://localhost:8080/"
        },
        "id": "fUtS86EecPZ8",
        "outputId": "4581ec95-1b95-44d5-d23c-03ca794a4f9c"
      },
      "execution_count": 14,
      "outputs": [
        {
          "output_type": "stream",
          "name": "stdout",
          "text": [
            "Original Code:\n",
            "\n",
            "x = 2 + 3\n",
            "y = x * 4\n",
            "z = 5\n",
            "# Dead code example\n",
            "\n",
            "\n",
            "\n",
            "Optimized Code:\n",
            "x = 5\n",
            "y = x * 4\n",
            "z = 5\n",
            "\n"
          ]
        }
      ]
    }
  ]
}